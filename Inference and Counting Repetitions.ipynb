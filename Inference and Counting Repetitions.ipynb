{
 "cells": [
  {
   "cell_type": "code",
   "execution_count": null,
   "id": "b2f95c25-290a-43c2-8172-f8cf232e10f1",
   "metadata": {},
   "outputs": [],
   "source": [
    "def count_repetitions(model, video_path):\n",
    "    frames = extract_frames(video_path)\n",
    "    stage = None\n",
    "    count = 0\n",
    "    correct_reps = 0\n",
    "    total_reps = 0\n",
    "\n",
    "    for frame in frames:\n",
    "        preprocessed_frame = preprocess_frame(frame)\n",
    "        input_tensor = np.expand_dims(preprocessed_frame, axis=0)\n",
    "        prediction = model.predict(input_tensor)\n",
    "        predicted_class = np.argmax(prediction, axis=1)[0]\n",
    "        current_stage = 'up' if predicted_class == 0 else 'down'\n",
    "\n",
    "        if stage == 'down' and current_stage == 'up':\n",
    "            total_reps += 1\n",
    "            if predicted_class == 1:  # Assuming 1 is the label for correct form\n",
    "                correct_reps += 1\n",
    "\n",
    "        stage = current_stage\n",
    "\n",
    "    accuracy = (correct_reps / total_reps) if total_reps > 0 else 0\n",
    "    return total_reps, correct_reps, accuracy\n",
    "\n",
    "# Example usage\n",
    "total_reps, correct_reps, accuracy = count_repetitions(model, 'path_to_new_video')\n",
    "print(f'Total Repetitions: {total_reps}, Correct Repetitions: {correct_reps}, Accuracy: {accuracy * 100}%')"
   ]
  }
 ],
 "metadata": {
  "kernelspec": {
   "display_name": "Python 3 (ipykernel)",
   "language": "python",
   "name": "python3"
  },
  "language_info": {
   "codemirror_mode": {
    "name": "ipython",
    "version": 3
   },
   "file_extension": ".py",
   "mimetype": "text/x-python",
   "name": "python",
   "nbconvert_exporter": "python",
   "pygments_lexer": "ipython3",
   "version": "3.12.2"
  }
 },
 "nbformat": 4,
 "nbformat_minor": 5
}
