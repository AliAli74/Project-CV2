import cv2
import numpy as np
import os
from tensorflow.keras.utils import to_categorical

def extract_frames(video_path, frame_rate=1):
    cap = cv2.VideoCapture(video_path)
    frames = []
    while cap.isOpened():
        ret, frame = cap.read()
        if not ret:
            break
        frames.append(frame)
    cap.release()
    return frames

def preprocess_frame(frame, img_size=(224, 224)):
    frame = cv2.resize(frame, img_size)
    frame = frame / 255.0
    return frame

video_files = ['path_to_video1', 'path_to_video2']  # Add your video paths
all_frames = []
all_labels = []

for video in video_files:
    frames = extract_frames(video)
    for frame in frames:
        preprocessed_frame = preprocess_frame(frame)
        all_frames.append(preprocessed_frame)
        # Label frames based on the video and manual annotation
        # Example: all_labels.append(label)  # Add your labeling logic here

all_frames = np.array(all_frames)
all_labels = np.array(all_labels)

# Convert labels to categorical
all_labels = to_categorical(all_labels, num_classes=2)  # Adjust num_classes as needed
