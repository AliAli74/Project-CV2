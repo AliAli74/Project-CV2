{
 "cells": [
  {
   "cell_type": "code",
   "execution_count": null,
   "id": "62493473-4468-4bc7-b66c-fc29f5acba89",
   "metadata": {},
   "outputs": [],
   "source": [
    "import cv2\n",
    "import numpy as np\n",
    "import os\n",
    "from tensorflow.keras.utils import to_categorical\n",
    "\n",
    "def extract_frames(video_path, frame_rate=1):\n",
    "    cap = cv2.VideoCapture(video_path)\n",
    "    frames = []\n",
    "    while cap.isOpened():\n",
    "        ret, frame = cap.read()\n",
    "        if not ret:\n",
    "            break\n",
    "        frames.append(frame)\n",
    "    cap.release()\n",
    "    return frames\n",
    "\n",
    "def preprocess_frame(frame, img_size=(224, 224)):\n",
    "    frame = cv2.resize(frame, img_size)\n",
    "    frame = frame / 255.0\n",
    "    return frame\n",
    "\n",
    "video_files = ['path_to_video1', 'path_to_video2']\n",
    "all_frames = []\n",
    "all_labels = []\n",
    "\n",
    "for video in video_files:\n",
    "    frames = extract_frames(video)\n",
    "    for frame in frames:\n",
    "        preprocessed_frame = preprocess_frame(frame)\n",
    "        all_frames.append(preprocessed_frame)\n",
    "        # Label frames based on the video and manual annotation\n",
    "        # Example: all_labels.append(label)\n",
    "\n",
    "all_frames = np.array(all_frames)\n",
    "all_labels = np.array(all_labels)\n",
    "\n",
    "# Convert labels to categorical\n",
    "all_labels = to_categorical(all_labels, num_classes=2)  # Adjust num_classes as needed"
   ]
  }
 ],
 "metadata": {
  "kernelspec": {
   "display_name": "Python 3 (ipykernel)",
   "language": "python",
   "name": "python3"
  },
  "language_info": {
   "codemirror_mode": {
    "name": "ipython",
    "version": 3
   },
   "file_extension": ".py",
   "mimetype": "text/x-python",
   "name": "python",
   "nbconvert_exporter": "python",
   "pygments_lexer": "ipython3",
   "version": "3.12.2"
  }
 },
 "nbformat": 4,
 "nbformat_minor": 5
}
